{
 "cells": [
  {
   "cell_type": "markdown",
   "metadata": {},
   "source": [
    "# Circles\n",
    "\n",
    "### Finding a Circle tangent to 3 circles\n",
    "In the figure below, trying to find the red cirle parameters can be thought of as imagining the center of the red circle as a point on a circle that is centered at $(a_i,b_i)$ with radius $r_i + r$. So the folowing three equations are satisfied.\n",
    "\n",
    "$$  (a - a_1)^2 + (b - b_1)^2 = (r + r_1)^2 $$\n",
    "$$  (a - a_2)^2 + (b - b_2)^2 = (r + r_2)^2 $$\n",
    "$$  (a - a_3)^2 + (b - b_3)^2 = (r + r_3)^2 $$\n",
    "\n",
    "\n",
    "![Circles_img](lib/Circles.png)\n",
    "\n"
   ]
  },
  {
   "cell_type": "markdown",
   "metadata": {},
   "source": [
    "Notice, this is not the only configuration. We could have the red circle tangent on the inside of a blue cirle."
   ]
  },
  {
   "cell_type": "markdown",
   "metadata": {},
   "source": [
    "![Circles_img](lib/Circles2.png)"
   ]
  },
  {
   "cell_type": "markdown",
   "metadata": {},
   "source": [
    "Notice that this just changes the Radius to act like a negative radius in the equations. So solving the above equations and changing th radius to negative should yield all the solutions"
   ]
  },
  {
   "cell_type": "markdown",
   "metadata": {},
   "source": []
  },
  {
   "cell_type": "code",
   "execution_count": 73,
   "metadata": {},
   "outputs": [],
   "source": [
    "import numpy as np\n",
    "import matplotlib.pyplot as plt"
   ]
  },
  {
   "cell_type": "code",
   "execution_count": 74,
   "metadata": {},
   "outputs": [],
   "source": [
    "def quadratic_eq(a,b,c):\n",
    "    return [-b+np.sqrt(b**2-4*a*c)/2*a, -b-np.sqrt(b**2-4*a*c)/2*a]"
   ]
  },
  {
   "cell_type": "code",
   "execution_count": 75,
   "metadata": {},
   "outputs": [],
   "source": [
    "def circle(x, y, r):\n",
    "    return [(x,y), r]"
   ]
  },
  {
   "cell_type": "code",
   "execution_count": 76,
   "metadata": {},
   "outputs": [],
   "source": [
    "def beta(circle1, circle2, circle3):\n",
    "    a1,b1 = circle1[0]\n",
    "    a2,b2 = circle2[0]\n",
    "    a3,b3 = circle3[0]\n",
    "    \n",
    "    r1 = circle1[1]\n",
    "    r2 = circle2[1]\n",
    "    r3 = circle3[1]\n",
    "    \n",
    "    a12 = a1-a2\n",
    "    a23 = a2-a3\n",
    "    b12 = b1-b2\n",
    "    b23 = b2-b3\n",
    "    r12 = r1-r2\n",
    "    r23 = r2-r3\n",
    "    \n",
    "    if np.abs((b12*a23-a12*b23)) < 1E-8:\n",
    "        print(\"error divide by 0, alpha \")\n",
    "        print(r12*b23-b12*r23)\n",
    "        if np.abs((r12*b23-b12*r23)) < 1E-8:\n",
    "            return 0.0\n",
    "        \n",
    "    return (r12*a23-a12*r23)/(a12*b23-b12*a23)"
   ]
  },
  {
   "cell_type": "code",
   "execution_count": 77,
   "metadata": {},
   "outputs": [],
   "source": [
    "def alpha(circle1, circle2, circle3):\n",
    "    a1,b1 = circle1[0]\n",
    "    a2,b2 = circle2[0]\n",
    "    a3,b3 = circle3[0]\n",
    "    \n",
    "    r1 = circle1[1]\n",
    "    r2 = circle2[1]\n",
    "    r3 = circle3[1]\n",
    "    \n",
    "    a12 = a1-a2\n",
    "    a23 = a2-a3\n",
    "    b12 = b1-b2\n",
    "    b23 = b2-b3\n",
    "    r12 = r1-r2\n",
    "    r23 = r2-r3\n",
    "    \n",
    "    \n",
    "        \n",
    "    if np.abs((b12*a23-a12*b23)) < 1E-8:\n",
    "        print(\"error divide by 0, alpha \")\n",
    "        print(r12*b23-b12*r23)\n",
    "        if np.abs((r12*b23-b12*r23)) < 1E-8:\n",
    "            return 0.0\n",
    "\n",
    "    return (r12*b23-b12*r23)/(b12*a23-a12*b23)"
   ]
  },
  {
   "cell_type": "code",
   "execution_count": 108,
   "metadata": {},
   "outputs": [],
   "source": [
    "def tangent_circle(circle1, circle2, circle3):\n",
    "    a1,b1 = circle1[0]\n",
    "    r1 = circle1[1]\n",
    "    \n",
    "    alpha_r = alpha(circle1, circle2, circle3)\n",
    "    beta_r = beta(circle1, circle2, circle3)\n",
    "\n",
    "    print(alpha_r)\n",
    "    print(beta_r)\n",
    "    \n",
    "    a = alpha_r**2 + beta_r**2 - 1\n",
    "    b = -2*(alpha_r*a1 + beta_r*b1 + r1)\n",
    "    c = (a1**2 + b1**2 - r1**2)\n",
    "\n",
    "    r = quadratic_eq(a,b,c)\n",
    "    \n",
    "    print(r)\n",
    "    \n",
    "    output = []\n",
    "    for rad in r:\n",
    "        x = alpha_r*rad\n",
    "        y = beta_r*rad\n",
    "        output.append(circle(x,y,rad))\n",
    "    \n",
    "    return output"
   ]
  },
  {
   "cell_type": "code",
   "execution_count": 109,
   "metadata": {},
   "outputs": [
    {
     "name": "stdout",
     "output_type": "stream",
     "text": [
      "0.875\n",
      "3.0\n",
      "[528.406079578237, -273.4060795782371]\n"
     ]
    }
   ],
   "source": [
    "# 3 seed circles\n",
    "circle1 = circle(10,15,10)\n",
    "circle2 = circle(90,-10,15)\n",
    "circle3 = circle(50,2,14)\n",
    "circle4 = tangent_circle(circle1,circle2,circle3)"
   ]
  },
  {
   "cell_type": "code",
   "execution_count": 115,
   "metadata": {},
   "outputs": [
    {
     "name": "stdout",
     "output_type": "stream",
     "text": [
      "[(462.3553196309574, 1585.2182387347111), 528.406079578237]\n",
      "[(-239.23031963095747, -820.2182387347113), -273.4060795782371]\n"
     ]
    },
    {
     "data": {
      "image/png": "[encoded data removed]",
      "text/plain": [
       "<Figure size 432x432 with 1 Axes>"
      ]
     },
     "metadata": {
      "needs_background": "light"
     },
     "output_type": "display_data"
    }
   ],
   "source": [
    "\n",
    "\n",
    "fig, ax = plt.subplots(figsize=(6,6))\n",
    "\n",
    "ax.add_artist(plt.Circle(*circle1, alpha=0.7))\n",
    "ax.add_artist(plt.Circle(*circle2, alpha=0.7))\n",
    "ax.add_artist(plt.Circle(*circle3, alpha=0.7))\n",
    "ax.add_artist(plt.Circle(*circle4[0], alpha=0.7))\n",
    "\n",
    "print(circle4[0])\n",
    "print(circle4[1])\n",
    "\n",
    "ax.set_ylim((-100,100))\n",
    "ax.set_xlim((-100,100))\n",
    "\n",
    "\n",
    "# plt.savefig(\"temp.png\", bbox_inches=\"tight\")\n",
    "\n",
    "\n",
    "plt.show()"
   ]
  },
  {
   "cell_type": "code",
   "execution_count": null,
   "metadata": {},
   "outputs": [],
   "source": []
  },
  {
   "cell_type": "code",
   "execution_count": null,
   "metadata": {},
   "outputs": [],
   "source": []
  }
 ],
 "metadata": {
  "kernelspec": {
   "display_name": "Python 3",
   "language": "python",
   "name": "python3"
  },
  "language_info": {
   "codemirror_mode": {
    "name": "ipython",
    "version": 3
   },
   "file_extension": ".py",
   "mimetype": "text/x-python",
   "name": "python",
   "nbconvert_exporter": "python",
   "pygments_lexer": "ipython3",
   "version": "3.7.4"
  }
 },
 "nbformat": 4,
 "nbformat_minor": 4
}
