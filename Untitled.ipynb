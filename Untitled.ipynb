{
 "cells": [
  {
   "cell_type": "markdown",
   "metadata": {},
   "source": [
    "# Circles\n",
    "\n",
    "### Finding a Circle tangent to 3 circles\n",
    "In the figure below, trying to find the red cirle parameters can be thought of as imagining the center of the red circle as a point on a circle that is centered at $(a_i,b_i)$ with radius $r_i + r$. So the folowing three equations are satisfied.\n",
    "\n",
    "$$  (a - a_1)^2 + (b - b_1)^2 = (r + r_1)^2 $$\n",
    "$$  (a - a_2)^2 + (b - b_2)^2 = (r + r_2)^2 $$\n",
    "$$  (a - a_3)^2 + (b - b_3)^2 = (r + r_3)^2 $$\n",
    "\n",
    "\n",
    "![Circles_img](lib/Circles.png)\n",
    "\n"
   ]
  },
  {
   "cell_type": "markdown",
   "metadata": {},
   "source": [
    "Notice, this is not the only configuration. We could have the red circle tangent on the inside of a blue cirle."
   ]
  },
  {
   "cell_type": "code",
   "execution_count": null,
   "metadata": {},
   "outputs": [],
   "source": []
  }
 ],
 "metadata": {
  "kernelspec": {
   "display_name": "Python 3",
   "language": "python",
   "name": "python3"
  },
  "language_info": {
   "codemirror_mode": {
    "name": "ipython",
    "version": 3
   },
   "file_extension": ".py",
   "mimetype": "text/x-python",
   "name": "python",
   "nbconvert_exporter": "python",
   "pygments_lexer": "ipython3",
   "version": "3.7.6"
  }
 },
 "nbformat": 4,
 "nbformat_minor": 4
}
