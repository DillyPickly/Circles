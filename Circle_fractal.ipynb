{
 "cells": [
  {
   "cell_type": "markdown",
   "metadata": {},
   "source": [
    "# Circles\n",
    "\n",
    "### Finding a Circle tangent to 3 circles\n",
    "In the figure below, trying to find the red cirle parameters can be thought of as imagining the center of the red circle as a point on a circle that is centered at $(a_i,b_i)$ with radius $r_i + r$. So the folowing three equations are satisfied.\n",
    "\n",
    "$$  (a - a_1)^2 + (b - b_1)^2 = (r + r_1)^2 $$\n",
    "$$  (a - a_2)^2 + (b - b_2)^2 = (r + r_2)^2 $$\n",
    "$$  (a - a_3)^2 + (b - b_3)^2 = (r + r_3)^2 $$\n",
    "\n",
    "\n",
    "![Circles_img](lib/Circles.png)\n",
    "\n"
   ]
  },
  {
   "cell_type": "markdown",
   "metadata": {},
   "source": [
    "$$  a^2 - 2a \\cdot a_1 + a_1^2 + b^2 - 2b \\cdot b_1 + b_1^2 = r^2 + 2r \\cdot r_1 + r_1^2 $$\n",
    "\n",
    "$$  a^2 - 2a \\cdot a_2 + a_2^2 + b^2 - 2b \\cdot b_2 + b_2^2 = r^2 + 2r \\cdot r_2 + r_2^2 $$\n",
    "\n",
    "$$  a^2 - 2a \\cdot a_3 + a_3^2 + b^2 - 2b \\cdot b_3 + b_3^2 = r^2 + 2r \\cdot r_3 + r_3^2 $$\n",
    "\n",
    "\n",
    "Substract the equations,\n",
    "\n",
    "\n",
    "$$ a \\cdot (a_1-a_2)  + b \\cdot (b_1-b_2)  + r \\cdot (r_1-r_2) =  (-1/2) (r_1^2 - r_2^2 - a_1^2 + a_2^2 - b_1^2 + b_2^2)$$\n",
    "\n",
    "$$ a \\cdot (a_2-a_3)  + b \\cdot (b_2-b_3)  + r \\cdot (r_2-r_3) =  (-1/2) (r_2^2 - r_3^2 - a_2^2 + a_3^2 - b_2^2 + b_3^2)$$\n",
    "\n",
    "$$ a \\cdot (a_3-a_1)  + b \\cdot (b_3-b_1)  + r \\cdot (r_3-r_1) =  (-1/2) (r_3^2 - r_1^2 - a_3^2 + a_1^2 - b_3^2 + b_1^2)$$\n",
    "\n"
   ]
  },
  {
   "cell_type": "markdown",
   "metadata": {},
   "source": [
    "$$ \n",
    "-2 \\begin{bmatrix} a_1-a_2 & b_1-b_2 & r_1-r_2 \\\\ \n",
    "                   a_2-a_3 & b_2-b_3 & r_2-r_3 \\\\ \n",
    "                   a_3-a_1 & b_3-b_1 & r_3-r_1 \\end{bmatrix}    \n",
    "\\begin{bmatrix} a \\\\ b \\\\ r \\end{bmatrix} \n",
    "= \\begin{bmatrix} r_1^2 - r_2^2 - a_1^2 + a_2^2 - b_1^2 + b_2^2 \\\\ \n",
    "                  r_2^2 - r_3^2 - a_2^2 + a_3^2 - b_2^2 + b_3^2 \\\\ \n",
    "                  r_3^2 - r_1^2 - a_3^2 + a_1^2 - b_3^2 + b_1^2 \\end{bmatrix}$$"
   ]
  },
  {
   "cell_type": "markdown",
   "metadata": {},
   "source": [
    "Notice, this is not the only configuration. We could have the red circle tangent on the inside of a blue cirle."
   ]
  },
  {
   "cell_type": "markdown",
   "metadata": {},
   "source": [
    "![Circles_img](lib/Circles2.png)"
   ]
  },
  {
   "cell_type": "markdown",
   "metadata": {},
   "source": [
    "Notice that this just changes the Radius to act like a negative radius in the equations. So solving the above equations and changing th radius to negative should yield all the solutions"
   ]
  },
  {
   "cell_type": "markdown",
   "metadata": {},
   "source": []
  },
  {
   "cell_type": "code",
   "execution_count": 1,
   "metadata": {},
   "outputs": [],
   "source": [
    "import numpy as np\n",
    "import matplotlib.pyplot as plt\n",
    "from scipy.linalg import lu, lu_factor\n",
    "from mpl_toolkits.mplot3d import Axes3D\n",
    "from itertools import combinations\n",
    "# %matplotlib widget\n",
    "# %matplotlib inline\n",
    "# %matplotlib qt\n",
    "# %matplotlib notebook "
   ]
  },
  {
   "cell_type": "code",
   "execution_count": 2,
   "metadata": {},
   "outputs": [],
   "source": [
    "def circle(x, y, r):\n",
    "    return [(x,y), r]"
   ]
  },
  {
   "cell_type": "code",
   "execution_count": 3,
   "metadata": {},
   "outputs": [],
   "source": [
    "# def equation_subtract(circle1, circle2, circle3):\n",
    "#     a1,b1 = circle1[0]\n",
    "#     a2,b2 = circle2[0]\n",
    "#     a3,b3 = circle3[0]\n",
    "    \n",
    "#     r1 = circle1[1]\n",
    "#     r2 = circle2[1]\n",
    "#     r3 = circle3[1]\n",
    "    \n",
    "    \n",
    "#     s = np.array([[a1,b1,r1],[a2,b2,r2],[a3,b3,r3]])\n",
    "#     a = np.matmul([[1,-1,0],[0,1,-1],[-1,0,1]],s)\n",
    "    \n",
    "#     if np.linalg.matrix_rank(a) < 2:\n",
    "#         print('A matrix has rank less than two')\n",
    "#         print('This means weird solutions')\n",
    "    \n",
    "# #     print(a)\n",
    "# #     print(np.linalg.matrix_rank(a))\n",
    "    \n",
    "#     b = np.array([[r1**2-r2**2-a1**2+a2**2-b1**2+b2**2],\n",
    "#                   [r2**2-r3**2-a2**2+a3**2-b2**2+b3**2],\n",
    "#                   [r3**2-r1**2-a3**2+a1**2-b3**2+b1**2]]) \n",
    "# # print(b)\n",
    "    \n",
    "# #     a12 = a1-a2\n",
    "# #     a23 = a2-a3\n",
    "# #     a31 = a3-a1\n",
    "    \n",
    "# #     b12 = b1-b2\n",
    "# #     b23 = b2-b3\n",
    "# #     b31 = b3-b1\n",
    "    \n",
    "# #     r12 = r1-r2\n",
    "# #     r23 = r2-r3\n",
    "# #     r31 = r3-r1\n",
    "    \n",
    "# #     a = np.array([[a12,b12,r12],[a23,b23,r23],[a31,b31,r31]])\n",
    "\n",
    "\n",
    "\n",
    "    \n",
    "    \n",
    "#     return a,b\n",
    "\n",
    "\n",
    "def equation_subtract(circle1, circle2, circle3):\n",
    "    a1,b1 = circle1[0]\n",
    "    a2,b2 = circle2[0]\n",
    "    a3,b3 = circle3[0]\n",
    "    \n",
    "    r1 = circle1[1]\n",
    "    r2 = circle2[1]\n",
    "    r3 = circle3[1]\n",
    "    \n",
    "    \n",
    "    s = np.array([[a1,b1,r1],[a2,b2,r2],[a3,b3,r3]])\n",
    "    a = -2*np.matmul([[1,-1,0],[0,1,-1],[-1,0,1]],s)\n",
    "    \n",
    "    if np.linalg.matrix_rank(a) < 2:\n",
    "        print('A matrix has rank less than two')\n",
    "        print('This means weird solutions')\n",
    "    \n",
    "    b = np.array([[r1**2-r2**2-a1**2+a2**2-b1**2+b2**2],\n",
    "                  [r2**2-r3**2-a2**2+a3**2-b2**2+b3**2],\n",
    "                  [r3**2-r1**2-a3**2+a1**2-b3**2+b1**2]]) \n",
    "    \n",
    "    return a,b"
   ]
  },
  {
   "cell_type": "code",
   "execution_count": 4,
   "metadata": {},
   "outputs": [],
   "source": [
    "def quadratic_eq(a,b,c):\n",
    "    return [(-b+np.sqrt(b**2-4*a*c))/(2*a), (-b-np.sqrt(b**2-4*a*c))/(2*a)]"
   ]
  },
  {
   "cell_type": "markdown",
   "metadata": {},
   "source": [
    "## Plotting planes in matplotlib"
   ]
  },
  {
   "cell_type": "code",
   "execution_count": 5,
   "metadata": {},
   "outputs": [],
   "source": [
    "\n",
    "# plane dot [x,y,z,1] = 0 determines if we are on the plane\n",
    "def get_plane(plane = [1,2,3,4]):\n",
    "    \n",
    "    best = np.argmax(np.abs(plane[:3]))\n",
    "#     best = 1\n",
    "    if abs(plane[best]) < 1e-6:\n",
    "        print('no good')\n",
    "    \n",
    "    bounds = np.linspace(-10,10,20)\n",
    "    \n",
    "    if best == 0:\n",
    "        ys = bounds\n",
    "        zs = bounds\n",
    "        Y,Z = np.meshgrid(ys,zs)\n",
    "        X = (-plane[1]*Y - plane[2]*Z + plane[3])/plane[0]\n",
    "    elif best == 1:\n",
    "        xs = bounds\n",
    "        zs = bounds\n",
    "        X,Z = np.meshgrid(xs,zs)\n",
    "        Y = (-plane[0]*X - plane[2]*Z + plane[3])/plane[1]\n",
    "    elif best == 2:\n",
    "        xs = bounds\n",
    "        ys = bounds\n",
    "        X,Y = np.meshgrid(xs,ys)\n",
    "        Z = (-plane[0]*X - plane[1]*Y + plane[3])/plane[2]\n",
    "\n",
    "            \n",
    "    \n",
    "    return(X,Y,Z)\n"
   ]
  },
  {
   "cell_type": "markdown",
   "metadata": {},
   "source": [
    "### Plotting Lines in python"
   ]
  },
  {
   "cell_type": "code",
   "execution_count": 6,
   "metadata": {},
   "outputs": [],
   "source": [
    "def intersect(plane1, plane2):\n",
    "    direction = np.cross(plane1[:3],plane2[:3])\n",
    "    i = np.argmax(np.abs(direction[:3]))\n",
    "    \n",
    "    if abs(direction[i]) < 1e-6:\n",
    "        print(direction[:3], i)\n",
    "        print(\"here\")\n",
    "        return\n",
    "    \n",
    "    intercept = np.zeros_like(direction)\n",
    "    \n",
    "    b = [plane1[3], plane2[3]]\n",
    "    \n",
    "    j = np.arange(3)\n",
    "    \n",
    "    A = np.array([plane1[:3][i != j], plane2[:3][i != j]])\n",
    "    \n",
    "    intercept[j[i != j]] = np.linalg.solve(A,b)  \n",
    "    \n",
    "    t = np.linspace(-5,5,10)\n",
    "    \n",
    "    line = np.outer(direction, t) \n",
    "    \n",
    "    return line[0,:]+intercept[0], line[1,:]+intercept[1], line[2,:]+intercept[2] "
   ]
  },
  {
   "cell_type": "code",
   "execution_count": 7,
   "metadata": {
    "scrolled": false
   },
   "outputs": [
    {
     "data": {
      "image/png": "[encoded data removed]",
      "text/plain": [
       "<Figure size 432x288 with 1 Axes>"
      ]
     },
     "metadata": {
      "needs_background": "light"
     },
     "output_type": "display_data"
    }
   ],
   "source": [
    "fig = plt.figure()\n",
    "ax = fig.add_subplot(111, projection='3d')\n",
    "# ax.set_xticks([])\n",
    "# ax.set_yticks([])\n",
    "# ax.set_zticks([])\n",
    "ax.set_xlabel('x')\n",
    "ax.set_ylabel('y')\n",
    "ax.set_zlabel('z')\n",
    "\n",
    "circle1 = circle(0,   0, -1)\n",
    "circle2 = circle(0,  .5, .5)\n",
    "circle3 = circle(0.666666666666666, -0.0, 0.3333333333333333)\n",
    "\n",
    "# circle1 = circle(0,   0, -1)\n",
    "# circle2 = circle(0,  .5, .5)\n",
    "# circle3 = circle(0, -.5, .5)\n",
    "\n",
    "A,b = equation_subtract(circle1,circle2,circle3)\n",
    "\n",
    "plane1 = np.append(A[0,:], b[0])\n",
    "plane2 = np.append(A[1,:], b[1])\n",
    "plane3 = np.append(A[2,:], b[2])\n",
    "\n",
    "\n",
    "ax.plot_surface(*get_plane(plane1), alpha=0.5)\n",
    "ax.plot_surface(*get_plane(plane2), alpha=0.5)\n",
    "ax.plot_surface(*get_plane(plane3), alpha=0.5);\n",
    "\n",
    "ax.plot(*intersect(plane1, plane2))\n",
    "ax.plot(*intersect(plane2, plane3))\n",
    "ax.plot(*intersect(plane3, plane1));\n",
    "\n",
    "# plt.show();"
   ]
  },
  {
   "cell_type": "code",
   "execution_count": 8,
   "metadata": {},
   "outputs": [],
   "source": [
    "# with the equation of a line"
   ]
  },
  {
   "cell_type": "code",
   "execution_count": 9,
   "metadata": {},
   "outputs": [],
   "source": [
    "def get_line(plane1, plane2):\n",
    "    direction = np.cross(plane1[:3],plane2[:3])\n",
    "    i = np.argmax(np.abs(direction[:3]))\n",
    "    \n",
    "    if abs(direction[i]) < 1e-6:\n",
    "        print(direction[:3], i)\n",
    "        print(\"here\")\n",
    "        return\n",
    "    \n",
    "    intercept = np.zeros_like(direction)\n",
    "    \n",
    "    b = [plane1[3], plane2[3]]\n",
    "    \n",
    "    j = np.arange(3)\n",
    "    \n",
    "    A = np.array([plane1[:3][i != j], plane2[:3][i != j]])\n",
    "    \n",
    "    intercept[j[i != j]] = np.linalg.solve(A,b)  \n",
    "#     print(direction, intercept)\n",
    "    \n",
    "    \n",
    "    return [[direction[i],intercept[i]] for i in range(len(direction))]"
   ]
  },
  {
   "cell_type": "code",
   "execution_count": 10,
   "metadata": {},
   "outputs": [],
   "source": [
    "def get_circle(circle1,circle2,circle3):\n",
    "    A,b = equation_subtract(circle1,circle2,circle3)\n",
    "\n",
    "    plane1 = np.append(A[0,:], b[0])\n",
    "    plane2 = np.append(A[1,:], b[1])\n",
    "    \n",
    "    (x0,x1), (y0,y1), (z0,z1) = get_line(plane1, plane2)\n",
    "    \n",
    "    ai, bi = circle3[0]\n",
    "    Ri = circle3[1]\n",
    "\n",
    "    w0 = x0**2 + y0**2 - z0**2\n",
    "    w1 = 2*(x0*(x1-ai) + y0*(y1-bi) - z0*(z1+Ri))\n",
    "    w2 = (x1-ai)**2 + (y1-bi)**2 - (z1+Ri)**2\n",
    "\n",
    "    t = quadratic_eq(w0,w1,w2)\n",
    "    \n",
    "    circ1 = circle(*np.array([x0,y0,z0])*t[0]+[x1,y1,z1])\n",
    "    circ2 = circle(*np.array([x0,y0,z0])*t[1]+[x1,y1,z1])\n",
    "#     print(circ1[1])\n",
    "#     print(circ2[1])\n",
    "#     print(circle1[1])\n",
    "#     print(circle2[1])\n",
    "#     print(circle3[1])\n",
    "    \n",
    "    circ1_valid =  abs(circ1[1]) < abs(circle1[1]) and abs(circ1[1]) < abs(circle2[1]) and abs(circ1[1]) < abs(circle3[1])\n",
    "    circ2_valid =  abs(circ2[1]) < abs(circle1[1]) and abs(circ2[1]) < abs(circle2[1]) and abs(circ2[1]) < abs(circle3[1])\n",
    "    \n",
    "    if circ1_valid and circ2_valid:\n",
    "        return [circ1,circ2] # change to return both\n",
    "    elif circ1_valid:\n",
    "        return [circ1]\n",
    "    elif circ2_valid: \n",
    "        return [circ2]"
   ]
  },
  {
   "cell_type": "code",
   "execution_count": null,
   "metadata": {},
   "outputs": [],
   "source": []
  },
  {
   "cell_type": "code",
   "execution_count": 11,
   "metadata": {
    "scrolled": false
   },
   "outputs": [],
   "source": [
    "# seed_circles\n",
    "circles = [circle(0, 0, -1), circle(0,.5, .5), circle(0,-.5, .5)]\n",
    "parents = {3:(0,1,2),4:(0,1,2)}\n",
    "circ1, circ2 = get_circle(*circles)\n",
    "circles.append(circ1)\n",
    "circles.append(circ2)\n",
    "# print(circles)\n",
    "\n",
    "c = 5\n",
    "for i in range(3,7000):  \n",
    "#     print(parents[i])\n",
    "    new_circs = list(combinations([*parents[i],i],3))\n",
    "    new_circs.remove(parents[i])\n",
    "#     print(new_circs)\n",
    "    for j,v in enumerate(new_circs):\n",
    "#         print(v)\n",
    "        seeds = [circles[v[0]], circles[v[1]], circles[v[2]]]\n",
    "#         print(i)\n",
    "#         print(seeds)\n",
    "        circ = get_circle(*seeds)\n",
    "#         print(*seeds)\n",
    "#         print(circ)\n",
    "        if len(circ)>1:\n",
    "            \n",
    "            circles.append(circ[0])\n",
    "#             print(circ[0])\n",
    "            parents[c] = tuple(v)\n",
    "            c+=1\n",
    "            circles.append(circ[1])\n",
    "            parents[c] = tuple(v)\n",
    "            c+=1\n",
    "            \n",
    "\n",
    "        else:\n",
    "#             print(circ)\n",
    "            circles.append(*circ)\n",
    "            parents[c] = tuple(v)\n",
    "            c+=1\n",
    "        \n",
    "#         print(circles)\n",
    "# circles\n",
    "# parents"
   ]
  },
  {
   "cell_type": "code",
   "execution_count": 12,
   "metadata": {},
   "outputs": [],
   "source": [
    "_white = (.2,.3,.5)\n",
    "_black = (.3,.4,.6)\n",
    "\n",
    "def c_map(t, c0=_black, c1=_white):\n",
    "    t = abs(t)\n",
    "    return ((c1[0]-c0[0])*t + c0[0], \n",
    "            (c1[1]-c0[1])*t + c0[1], \n",
    "            (c1[2]-c0[2])*t + c0[2])       \n",
    "\n",
    "# print(c_map(1))"
   ]
  },
  {
   "cell_type": "code",
   "execution_count": 13,
   "metadata": {},
   "outputs": [
    {
     "name": "stdout",
     "output_type": "stream",
     "text": [
      "20996\n"
     ]
    }
   ],
   "source": [
    "print(len(circles))"
   ]
  },
  {
   "cell_type": "code",
   "execution_count": 14,
   "metadata": {
    "scrolled": false
   },
   "outputs": [
    {
     "data": {
      "image/png": "[encoded data removed]",
      "text/plain": [
       "<Figure size 432x432 with 1 Axes>"
      ]
     },
     "metadata": {},
     "output_type": "display_data"
    }
   ],
   "source": [
    "fig, ax = plt.subplots(figsize=(6,6))\n",
    "\n",
    "\n",
    "for circ in circles[:29]:\n",
    "#     print(circ[1])\n",
    "    ax.add_artist(plt.Circle(*circ, \n",
    "                             alpha=0.5, \n",
    "                             color='black',\n",
    "                             fill=False,\n",
    "                             lw = 0.5))\n",
    "\n",
    "# print(circle4[0])\n",
    "# print(circle4[1])\n",
    "\n",
    "ax.set_xticks([])\n",
    "ax.set_yticks([])\n",
    "\n",
    "ax.set_ylim((-1,1))\n",
    "ax.set_xlim((-1,1))\n",
    "\n",
    "plt.axis('off')\n",
    "# plt.savefig(\"circle_fractal.png\", bbox_inches=\"tight\",dpi=2000)\n",
    "\n",
    "\n",
    "plt.show()"
   ]
  },
  {
   "cell_type": "code",
   "execution_count": null,
   "metadata": {},
   "outputs": [],
   "source": []
  }
 ],
 "metadata": {
  "kernelspec": {
   "display_name": "Python 3",
   "language": "python",
   "name": "python3"
  },
  "language_info": {
   "codemirror_mode": {
    "name": "ipython",
    "version": 3
   },
   "file_extension": ".py",
   "mimetype": "text/x-python",
   "name": "python",
   "nbconvert_exporter": "python",
   "pygments_lexer": "ipython3",
   "version": "3.7.3"
  }
 },
 "nbformat": 4,
 "nbformat_minor": 4
}
